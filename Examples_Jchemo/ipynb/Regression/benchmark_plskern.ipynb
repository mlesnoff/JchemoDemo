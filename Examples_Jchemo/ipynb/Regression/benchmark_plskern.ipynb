{
 "cells": [
  {
   "outputs": [],
   "cell_type": "code",
   "source": [
    "# Benchmark for computaion time\n",
    "# on PLSR"
   ],
   "metadata": {},
   "execution_count": 1
  },
  {
   "outputs": [],
   "cell_type": "code",
   "source": [
    "using Jchemo"
   ],
   "metadata": {},
   "execution_count": 2
  },
  {
   "outputs": [
    {
     "output_type": "execute_result",
     "data": {
      "text/plain": "(n = 2000, p = 1000)"
     },
     "metadata": {},
     "execution_count": 3
    }
   ],
   "cell_type": "code",
   "source": [
    "n = 2000 ; p = 1000\n",
    "#n = 5000 ; p = 1000\n",
    "#n = 50000 ; p = 1000\n",
    "#n = 500000 ; p = 500\n",
    "#n = 10^6 ; p = 500\n",
    "q = 10\n",
    "X = rand(n, p)\n",
    "Y = rand(n, q)\n",
    "y = Y[:, 1]\n",
    "w = rand(n) ;\n",
    "(n = n, p)"
   ],
   "metadata": {},
   "execution_count": 3
  },
  {
   "outputs": [
    {
     "name": "stdout",
     "output_type": "stream",
     "text": [
      "  0.026112 seconds (291 allocations: 21.055 MiB)\n"
     ]
    }
   ],
   "cell_type": "code",
   "source": [
    "nlv = 25\n",
    "@time fm = plskern(X, Y; nlv = nlv) ;"
   ],
   "metadata": {},
   "execution_count": 4
  },
  {
   "outputs": [
    {
     "name": "stdout",
     "output_type": "stream",
     "text": [
      "  0.019734 seconds (286 allocations: 5.643 MiB)\n"
     ]
    }
   ],
   "cell_type": "code",
   "source": [
    "@time fm = plskern!(X, Y; nlv = nlv) ;"
   ],
   "metadata": {},
   "execution_count": 5
  },
  {
   "cell_type": "markdown",
   "source": [
    "---\n",
    "\n",
    "*This notebook was generated using [Literate.jl](https://github.com/fredrikekre/Literate.jl).*"
   ],
   "metadata": {}
  }
 ],
 "nbformat_minor": 3,
 "metadata": {
  "language_info": {
   "file_extension": ".jl",
   "mimetype": "application/julia",
   "name": "julia",
   "version": "1.9.3"
  },
  "kernelspec": {
   "name": "julia-1.9",
   "display_name": "Julia 1.9.3",
   "language": "julia"
  }
 },
 "nbformat": 4
}
