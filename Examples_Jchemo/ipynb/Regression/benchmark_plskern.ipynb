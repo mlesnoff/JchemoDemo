{
 "cells": [
  {
   "outputs": [],
   "cell_type": "code",
   "source": [
    "using Jchemo"
   ],
   "metadata": {},
   "execution_count": 1
  },
  {
   "outputs": [
    {
     "output_type": "execute_result",
     "data": {
      "text/plain": "2000-element Vector{Float64}:\n 0.09136349059464632\n 0.6349372209273912\n 0.6953979345896543\n 0.9378452034465071\n 0.9366462454429201\n 0.9377566169787943\n 0.15853694106344307\n 0.5771529203751711\n 0.6079697478892052\n 0.5250327300750096\n ⋮\n 0.0326167636256951\n 0.6672263034722578\n 0.8565982124339987\n 0.7650589618235344\n 0.4348612030811104\n 0.05843086344589288\n 0.11613009974746069\n 0.8804711416806008\n 0.5167175205618387"
     },
     "metadata": {},
     "execution_count": 2
    }
   ],
   "cell_type": "code",
   "source": [
    "n = 2000 ; p = 1000\n",
    "#n = 5000 ; p = 1000\n",
    "#n = 50000 ; p = 1000\n",
    "#n = 500000 ; p = 500\n",
    "#n = 10^6 ; p = 500\n",
    "q = 10\n",
    "X = rand(n, p)\n",
    "Y = rand(n, q)\n",
    "y = Y[:, 1]\n",
    "w = rand(n)"
   ],
   "metadata": {},
   "execution_count": 2
  },
  {
   "outputs": [
    {
     "name": "stdout",
     "output_type": "stream",
     "text": [
      "  0.038658 seconds (6.32 k allocations: 21.464 MiB, 34.70% compilation time)\n"
     ]
    }
   ],
   "cell_type": "code",
   "source": [
    "nlv = 25\n",
    "@time fm = plskern(X, Y; nlv = nlv) ;"
   ],
   "metadata": {},
   "execution_count": 3
  },
  {
   "outputs": [
    {
     "name": "stdout",
     "output_type": "stream",
     "text": [
      "  0.020477 seconds (286 allocations: 5.643 MiB)\n"
     ]
    }
   ],
   "cell_type": "code",
   "source": [
    "@time fm = plskern!(X, Y; nlv = nlv) ;"
   ],
   "metadata": {},
   "execution_count": 4
  },
  {
   "cell_type": "markdown",
   "source": [
    "---\n",
    "\n",
    "*This notebook was generated using [Literate.jl](https://github.com/fredrikekre/Literate.jl).*"
   ],
   "metadata": {}
  }
 ],
 "nbformat_minor": 3,
 "metadata": {
  "language_info": {
   "file_extension": ".jl",
   "mimetype": "application/julia",
   "name": "julia",
   "version": "1.9.3"
  },
  "kernelspec": {
   "name": "julia-1.9",
   "display_name": "Julia 1.9.3",
   "language": "julia"
  }
 },
 "nbformat": 4
}
