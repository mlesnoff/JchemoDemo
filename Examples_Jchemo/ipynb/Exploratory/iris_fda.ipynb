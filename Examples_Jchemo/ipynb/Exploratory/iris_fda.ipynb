{
 "cells": [
  {
   "outputs": [],
   "cell_type": "code",
   "source": [
    "using JLD2, CairoMakie, StatsBase\n",
    "using Jchemo, JchemoData"
   ],
   "metadata": {},
   "execution_count": 1
  },
  {
   "outputs": [
    {
     "output_type": "execute_result",
     "data": {
      "text/plain": "1-element Vector{Symbol}:\n :dat"
     },
     "metadata": {},
     "execution_count": 2
    }
   ],
   "cell_type": "code",
   "source": [
    "path_jdat = dirname(dirname(pathof(JchemoData)))\n",
    "db = joinpath(path_jdat, \"data\", \"iris.jld2\")\n",
    "@load db dat"
   ],
   "metadata": {},
   "execution_count": 2
  },
  {
   "outputs": [
    {
     "output_type": "execute_result",
     "data": {
      "text/plain": "(:X,)"
     },
     "metadata": {},
     "execution_count": 3
    }
   ],
   "cell_type": "code",
   "source": [
    "pnames(dat)"
   ],
   "metadata": {},
   "execution_count": 3
  },
  {
   "outputs": [
    {
     "output_type": "execute_result",
     "data": {
      "text/plain": "(res = \u001b[1m5×7 DataFrame\u001b[0m\n\u001b[1m Row \u001b[0m│\u001b[1m variable     \u001b[0m\u001b[1m mean   \u001b[0m\u001b[1m std    \u001b[0m\u001b[1m min    \u001b[0m\u001b[1m max       \u001b[0m\u001b[1m n     \u001b[0m\u001b[1m nmissing \u001b[0m\n     │\u001b[90m Symbol       \u001b[0m\u001b[90m Union… \u001b[0m\u001b[90m Union… \u001b[0m\u001b[90m Any    \u001b[0m\u001b[90m Any       \u001b[0m\u001b[90m Int64 \u001b[0m\u001b[90m Int64    \u001b[0m\n─────┼──────────────────────────────────────────────────────────────────\n   1 │ sepal_length  5.843   0.828   4.3     7.9          150         0\n   2 │ sepal_width   3.057   0.436   2.0     4.4          150         0\n   3 │ petal_length  3.758   1.765   1.0     6.9          150         0\n   4 │ petal_width   1.199   0.762   0.1     2.5          150         0\n   5 │ species      \u001b[90m        \u001b[0m\u001b[90m        \u001b[0m setosa  virginica    150         0, ntot = 150)"
     },
     "metadata": {},
     "execution_count": 4
    }
   ],
   "cell_type": "code",
   "source": [
    "summ(dat.X)"
   ],
   "metadata": {},
   "execution_count": 4
  },
  {
   "outputs": [
    {
     "output_type": "execute_result",
     "data": {
      "text/plain": "150"
     },
     "metadata": {},
     "execution_count": 5
    }
   ],
   "cell_type": "code",
   "source": [
    "X = dat.X[:, 1:4]\n",
    "y = dat.X[:, 5]\n",
    "n = nro(X)"
   ],
   "metadata": {},
   "execution_count": 5
  },
  {
   "outputs": [
    {
     "name": "stdout",
     "output_type": "stream",
     "text": [
      "... (150, 4)\n",
      " \n"
     ]
    },
    {
     "output_type": "display_data",
     "data": {
      "text/plain": "\u001b[1m3×4 DataFrame\u001b[0m\n\u001b[1m Row \u001b[0m│\u001b[1m sepal_length \u001b[0m\u001b[1m sepal_width \u001b[0m\u001b[1m petal_length \u001b[0m\u001b[1m petal_width \u001b[0m\n     │\u001b[90m Float64      \u001b[0m\u001b[90m Float64     \u001b[0m\u001b[90m Float64      \u001b[0m\u001b[90m Float64     \u001b[0m\n─────┼──────────────────────────────────────────────────────\n   1 │          5.1          3.5           1.4          0.2\n   2 │          4.9          3.0           1.4          0.2\n   3 │          4.7          3.2           1.3          0.2",
      "text/html": [
       "<div><div style = \"float: left;\"><span>3×4 DataFrame</span></div><div style = \"clear: both;\"></div></div><div class = \"data-frame\" style = \"overflow-x: scroll;\"><table class = \"data-frame\" style = \"margin-bottom: 6px;\"><thead><tr class = \"header\"><th class = \"rowNumber\" style = \"font-weight: bold; text-align: right;\">Row</th><th style = \"text-align: left;\">sepal_length</th><th style = \"text-align: left;\">sepal_width</th><th style = \"text-align: left;\">petal_length</th><th style = \"text-align: left;\">petal_width</th></tr><tr class = \"subheader headerLastRow\"><th class = \"rowNumber\" style = \"font-weight: bold; text-align: right;\"></th><th title = \"Float64\" style = \"text-align: left;\">Float64</th><th title = \"Float64\" style = \"text-align: left;\">Float64</th><th title = \"Float64\" style = \"text-align: left;\">Float64</th><th title = \"Float64\" style = \"text-align: left;\">Float64</th></tr></thead><tbody><tr><td class = \"rowNumber\" style = \"font-weight: bold; text-align: right;\">1</td><td style = \"text-align: right;\">5.1</td><td style = \"text-align: right;\">3.5</td><td style = \"text-align: right;\">1.4</td><td style = \"text-align: right;\">0.2</td></tr><tr><td class = \"rowNumber\" style = \"font-weight: bold; text-align: right;\">2</td><td style = \"text-align: right;\">4.9</td><td style = \"text-align: right;\">3.0</td><td style = \"text-align: right;\">1.4</td><td style = \"text-align: right;\">0.2</td></tr><tr><td class = \"rowNumber\" style = \"font-weight: bold; text-align: right;\">3</td><td style = \"text-align: right;\">4.7</td><td style = \"text-align: right;\">3.2</td><td style = \"text-align: right;\">1.3</td><td style = \"text-align: right;\">0.2</td></tr></tbody></table></div>"
      ]
     },
     "metadata": {}
    }
   ],
   "cell_type": "code",
   "source": [
    "@head(X)"
   ],
   "metadata": {},
   "execution_count": 6
  },
  {
   "outputs": [
    {
     "output_type": "execute_result",
     "data": {
      "text/plain": "OrderedCollections.OrderedDict{String, Int64} with 3 entries:\n  \"setosa\"     => 50\n  \"versicolor\" => 50\n  \"virginica\"  => 50"
     },
     "metadata": {},
     "execution_count": 7
    }
   ],
   "cell_type": "code",
   "source": [
    "tab(y)"
   ],
   "metadata": {},
   "execution_count": 7
  },
  {
   "outputs": [
    {
     "output_type": "execute_result",
     "data": {
      "text/plain": "30-element Vector{String}:\n \"setosa\"\n \"setosa\"\n \"setosa\"\n \"setosa\"\n \"setosa\"\n \"setosa\"\n \"setosa\"\n \"versicolor\"\n \"versicolor\"\n \"versicolor\"\n ⋮\n \"virginica\"\n \"virginica\"\n \"virginica\"\n \"virginica\"\n \"virginica\"\n \"virginica\"\n \"virginica\"\n \"virginica\"\n \"virginica\""
     },
     "metadata": {},
     "execution_count": 8
    }
   ],
   "cell_type": "code",
   "source": [
    "ntrain = 120\n",
    "s = sample(1:n, ntrain; replace = false)\n",
    "Xtrain = X[s, :]\n",
    "ytrain = y[s]\n",
    "Xtest = rmrow(X, s)\n",
    "ytest = rmrow(y, s)"
   ],
   "metadata": {},
   "execution_count": 8
  },
  {
   "outputs": [
    {
     "output_type": "execute_result",
     "data": {
      "text/plain": "OrderedCollections.OrderedDict{String, Int64} with 3 entries:\n  \"setosa\"     => 43\n  \"versicolor\" => 38\n  \"virginica\"  => 39"
     },
     "metadata": {},
     "execution_count": 9
    }
   ],
   "cell_type": "code",
   "source": [
    "tab(ytrain)"
   ],
   "metadata": {},
   "execution_count": 9
  },
  {
   "outputs": [
    {
     "output_type": "execute_result",
     "data": {
      "text/plain": "OrderedCollections.OrderedDict{String, Int64} with 3 entries:\n  \"setosa\"     => 7\n  \"versicolor\" => 12\n  \"virginica\"  => 11"
     },
     "metadata": {},
     "execution_count": 10
    }
   ],
   "cell_type": "code",
   "source": [
    "tab(ytest)"
   ],
   "metadata": {},
   "execution_count": 10
  },
  {
   "outputs": [
    {
     "output_type": "execute_result",
     "data": {
      "text/plain": "(:T, :P, :Tcenters, :eig, :sstot, :W, :xmeans, :xscales, :lev, :ni)"
     },
     "metadata": {},
     "execution_count": 11
    }
   ],
   "cell_type": "code",
   "source": [
    "fm = fda(Xtrain, ytrain; nlv = 2) ;\n",
    "#fm = fdasvd(Xtrain, ytrain; nlv = 2) ;\n",
    "pnames(fm)"
   ],
   "metadata": {},
   "execution_count": 11
  },
  {
   "outputs": [
    {
     "output_type": "execute_result",
     "data": {
      "text/plain": "3-element Vector{String}:\n \"setosa\"\n \"versicolor\"\n \"virginica\""
     },
     "metadata": {},
     "execution_count": 12
    }
   ],
   "cell_type": "code",
   "source": [
    "lev = fm.lev"
   ],
   "metadata": {},
   "execution_count": 12
  },
  {
   "outputs": [
    {
     "output_type": "execute_result",
     "data": {
      "text/plain": "3"
     },
     "metadata": {},
     "execution_count": 13
    }
   ],
   "cell_type": "code",
   "source": [
    "nlev = length(lev)"
   ],
   "metadata": {},
   "execution_count": 13
  },
  {
   "outputs": [
    {
     "output_type": "execute_result",
     "data": {
      "text/plain": "120×2 Matrix{Float64}:\n -5.24746     2.18609\n -2.45125    -0.218177\n -0.632196    1.67022\n  0.0358564   1.38069\n  6.32219    -1.26154\n  5.60297     2.23908\n -6.82889     1.29527\n -6.67211    -1.86303\n -2.41741     0.325132\n -3.77825     1.80146\n  ⋮          \n  8.23002    -0.71412\n  8.5629     -0.901314\n -3.00876     0.0766301\n  7.60253    -1.59079\n -2.72943    -0.0495602\n -2.0697      0.373917\n -6.45903     0.0600388\n  8.66734    -0.371845\n  6.60964     0.557758"
     },
     "metadata": {},
     "execution_count": 14
    }
   ],
   "cell_type": "code",
   "source": [
    "fm.T"
   ],
   "metadata": {},
   "execution_count": 14
  },
  {
   "outputs": [
    {
     "output_type": "execute_result",
     "data": {
      "text/plain": "3×2 Matrix{Float64}:\n  7.4776   -0.183205\n -2.18804   0.71789\n -6.11259  -0.497487"
     },
     "metadata": {},
     "execution_count": 15
    }
   ],
   "cell_type": "code",
   "source": [
    "# Class centers projected on the score space\n",
    "ct = fm.Tcenters"
   ],
   "metadata": {},
   "execution_count": 15
  },
  {
   "outputs": [
    {
     "output_type": "execute_result",
     "data": {
      "text/plain": "Figure()",
      "image/png": "[encoded data removed]"
     },
     "metadata": {},
     "execution_count": 16
    }
   ],
   "cell_type": "code",
   "source": [
    "f, ax = plotxy(fm.T[:, 1:2], ytrain;\n",
    "    ellipse = true, title = \"FDA\", zeros = true)\n",
    "scatter!(ax, ct[:, 1], ct[:, 2],\n",
    "    markersize = 10, color = :red)\n",
    "f"
   ],
   "metadata": {},
   "execution_count": 16
  },
  {
   "outputs": [
    {
     "output_type": "execute_result",
     "data": {
      "text/plain": "30×2 Matrix{Float64}:\n  7.19731   1.16986\n  9.14094  -2.95752\n  7.88956  -1.24467\n  6.25431   0.310339\n  6.57866   0.80793\n  9.40827  -2.0071\n  6.74389   0.794627\n -2.14209  -0.636966\n -2.87127  -1.00418\n -2.07338   0.737522\n  ⋮        \n -7.29477  -3.06088\n -6.22628  -2.20554\n -5.59354  -0.176872\n -8.06744   0.774414\n -4.53792  -0.672175\n -7.01941  -0.438635\n -7.04596  -1.98283\n -5.31586  -2.09234\n -7.2819   -1.71024"
     },
     "metadata": {},
     "execution_count": 17
    }
   ],
   "cell_type": "code",
   "source": [
    "# Projection of Xtest to the score space\n",
    "Ttest = Jchemo.transform(fm, Xtest)"
   ],
   "metadata": {},
   "execution_count": 17
  },
  {
   "outputs": [
    {
     "output_type": "execute_result",
     "data": {
      "text/plain": "4×2 Matrix{Float64}:\n  1.10536   0.0527419\n  1.41509  -2.44898\n -2.49627   0.790344\n -2.60896  -2.75106"
     },
     "metadata": {},
     "execution_count": 18
    }
   ],
   "cell_type": "code",
   "source": [
    "# X-loadings matrix\n",
    "# Columns of P = coefficients of the linear discriminant function\n",
    "# = \"LD\" of function lda of package MASS\n",
    "fm.P"
   ],
   "metadata": {},
   "execution_count": 18
  },
  {
   "outputs": [
    {
     "output_type": "execute_result",
     "data": {
      "text/plain": "2×2 Matrix{Float64}:\n 16.2624    1.79729\n  1.79729  14.1933"
     },
     "metadata": {},
     "execution_count": 19
    }
   ],
   "cell_type": "code",
   "source": [
    "fm.P' * fm.P    # not orthogonal"
   ],
   "metadata": {},
   "execution_count": 19
  },
  {
   "outputs": [
    {
     "output_type": "execute_result",
     "data": {
      "text/plain": "4-element Vector{Float64}:\n 33.695269002687645\n  0.25566173774668627\n -3.8265486300599277e-16\n -3.8265486300599277e-16"
     },
     "metadata": {},
     "execution_count": 20
    }
   ],
   "cell_type": "code",
   "source": [
    "fm.eig"
   ],
   "metadata": {},
   "execution_count": 20
  },
  {
   "outputs": [
    {
     "output_type": "execute_result",
     "data": {
      "text/plain": "33.95093074043433"
     },
     "metadata": {},
     "execution_count": 21
    }
   ],
   "cell_type": "code",
   "source": [
    "fm.sstot"
   ],
   "metadata": {},
   "execution_count": 21
  },
  {
   "outputs": [
    {
     "output_type": "execute_result",
     "data": {
      "text/plain": "(explvarx = \u001b[1m2×4 DataFrame\u001b[0m\n\u001b[1m Row \u001b[0m│\u001b[1m lv    \u001b[0m\u001b[1m var       \u001b[0m\u001b[1m pvar       \u001b[0m\u001b[1m cumpvar \u001b[0m\n     │\u001b[90m Int64 \u001b[0m\u001b[90m Float64   \u001b[0m\u001b[90m Float64    \u001b[0m\u001b[90m Float64 \u001b[0m\n─────┼───────────────────────────────────────\n   1 │     1  33.6953    0.99247     0.99247\n   2 │     2   0.255662  0.00753033  1.0,)"
     },
     "metadata": {},
     "execution_count": 22
    }
   ],
   "cell_type": "code",
   "source": [
    "# Explained variance by PCA of the class centers\n",
    "# in transformed scale\n",
    "summary(fm)"
   ],
   "metadata": {},
   "execution_count": 22
  },
  {
   "cell_type": "markdown",
   "source": [
    "---\n",
    "\n",
    "*This notebook was generated using [Literate.jl](https://github.com/fredrikekre/Literate.jl).*"
   ],
   "metadata": {}
  }
 ],
 "nbformat_minor": 3,
 "metadata": {
  "language_info": {
   "file_extension": ".jl",
   "mimetype": "application/julia",
   "name": "julia",
   "version": "1.9.3"
  },
  "kernelspec": {
   "name": "julia-1.9",
   "display_name": "Julia 1.9.3",
   "language": "julia"
  }
 },
 "nbformat": 4
}
