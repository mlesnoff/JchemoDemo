{
 "cells": [
  {
   "outputs": [],
   "cell_type": "code",
   "source": [
    "using JLD2, CairoMakie, StatsBase\n",
    "using Jchemo, JchemoData"
   ],
   "metadata": {},
   "execution_count": 1
  },
  {
   "outputs": [
    {
     "output_type": "execute_result",
     "data": {
      "text/plain": "1-element Vector{Symbol}:\n :dat"
     },
     "metadata": {},
     "execution_count": 2
    }
   ],
   "cell_type": "code",
   "source": [
    "path_jdat = dirname(dirname(pathof(JchemoData)))\n",
    "db = joinpath(path_jdat, \"data\", \"iris.jld2\")\n",
    "@load db dat"
   ],
   "metadata": {},
   "execution_count": 2
  },
  {
   "outputs": [
    {
     "output_type": "execute_result",
     "data": {
      "text/plain": "(:X,)"
     },
     "metadata": {},
     "execution_count": 3
    }
   ],
   "cell_type": "code",
   "source": [
    "pnames(dat)"
   ],
   "metadata": {},
   "execution_count": 3
  },
  {
   "outputs": [
    {
     "output_type": "execute_result",
     "data": {
      "text/plain": "(res = \u001b[1m5×7 DataFrame\u001b[0m\n\u001b[1m Row \u001b[0m│\u001b[1m variable     \u001b[0m\u001b[1m mean   \u001b[0m\u001b[1m std    \u001b[0m\u001b[1m min    \u001b[0m\u001b[1m max       \u001b[0m\u001b[1m n     \u001b[0m\u001b[1m nmissing \u001b[0m\n     │\u001b[90m Symbol       \u001b[0m\u001b[90m Union… \u001b[0m\u001b[90m Union… \u001b[0m\u001b[90m Any    \u001b[0m\u001b[90m Any       \u001b[0m\u001b[90m Int64 \u001b[0m\u001b[90m Int64    \u001b[0m\n─────┼──────────────────────────────────────────────────────────────────\n   1 │ sepal_length  5.843   0.828   4.3     7.9          150         0\n   2 │ sepal_width   3.057   0.436   2.0     4.4          150         0\n   3 │ petal_length  3.758   1.765   1.0     6.9          150         0\n   4 │ petal_width   1.199   0.762   0.1     2.5          150         0\n   5 │ species      \u001b[90m        \u001b[0m\u001b[90m        \u001b[0m setosa  virginica    150         0, ntot = 150)"
     },
     "metadata": {},
     "execution_count": 4
    }
   ],
   "cell_type": "code",
   "source": [
    "summ(dat.X)"
   ],
   "metadata": {},
   "execution_count": 4
  },
  {
   "outputs": [
    {
     "output_type": "execute_result",
     "data": {
      "text/plain": "150"
     },
     "metadata": {},
     "execution_count": 5
    }
   ],
   "cell_type": "code",
   "source": [
    "X = dat.X[:, 1:4]\n",
    "y = dat.X[:, 5]\n",
    "n = nro(X)"
   ],
   "metadata": {},
   "execution_count": 5
  },
  {
   "outputs": [
    {
     "name": "stdout",
     "output_type": "stream",
     "text": [
      "... (150, 4)\n",
      " \n"
     ]
    },
    {
     "output_type": "display_data",
     "data": {
      "text/plain": "\u001b[1m3×4 DataFrame\u001b[0m\n\u001b[1m Row \u001b[0m│\u001b[1m sepal_length \u001b[0m\u001b[1m sepal_width \u001b[0m\u001b[1m petal_length \u001b[0m\u001b[1m petal_width \u001b[0m\n     │\u001b[90m Float64      \u001b[0m\u001b[90m Float64     \u001b[0m\u001b[90m Float64      \u001b[0m\u001b[90m Float64     \u001b[0m\n─────┼──────────────────────────────────────────────────────\n   1 │          5.1          3.5           1.4          0.2\n   2 │          4.9          3.0           1.4          0.2\n   3 │          4.7          3.2           1.3          0.2",
      "text/html": [
       "<div><div style = \"float: left;\"><span>3×4 DataFrame</span></div><div style = \"clear: both;\"></div></div><div class = \"data-frame\" style = \"overflow-x: scroll;\"><table class = \"data-frame\" style = \"margin-bottom: 6px;\"><thead><tr class = \"header\"><th class = \"rowNumber\" style = \"font-weight: bold; text-align: right;\">Row</th><th style = \"text-align: left;\">sepal_length</th><th style = \"text-align: left;\">sepal_width</th><th style = \"text-align: left;\">petal_length</th><th style = \"text-align: left;\">petal_width</th></tr><tr class = \"subheader headerLastRow\"><th class = \"rowNumber\" style = \"font-weight: bold; text-align: right;\"></th><th title = \"Float64\" style = \"text-align: left;\">Float64</th><th title = \"Float64\" style = \"text-align: left;\">Float64</th><th title = \"Float64\" style = \"text-align: left;\">Float64</th><th title = \"Float64\" style = \"text-align: left;\">Float64</th></tr></thead><tbody><tr><td class = \"rowNumber\" style = \"font-weight: bold; text-align: right;\">1</td><td style = \"text-align: right;\">5.1</td><td style = \"text-align: right;\">3.5</td><td style = \"text-align: right;\">1.4</td><td style = \"text-align: right;\">0.2</td></tr><tr><td class = \"rowNumber\" style = \"font-weight: bold; text-align: right;\">2</td><td style = \"text-align: right;\">4.9</td><td style = \"text-align: right;\">3.0</td><td style = \"text-align: right;\">1.4</td><td style = \"text-align: right;\">0.2</td></tr><tr><td class = \"rowNumber\" style = \"font-weight: bold; text-align: right;\">3</td><td style = \"text-align: right;\">4.7</td><td style = \"text-align: right;\">3.2</td><td style = \"text-align: right;\">1.3</td><td style = \"text-align: right;\">0.2</td></tr></tbody></table></div>"
      ]
     },
     "metadata": {}
    }
   ],
   "cell_type": "code",
   "source": [
    "@head X"
   ],
   "metadata": {},
   "execution_count": 6
  },
  {
   "outputs": [
    {
     "output_type": "execute_result",
     "data": {
      "text/plain": "OrderedCollections.OrderedDict{String, Int64} with 3 entries:\n  \"setosa\"     => 50\n  \"versicolor\" => 50\n  \"virginica\"  => 50"
     },
     "metadata": {},
     "execution_count": 7
    }
   ],
   "cell_type": "code",
   "source": [
    "tab(y)"
   ],
   "metadata": {},
   "execution_count": 7
  },
  {
   "outputs": [
    {
     "output_type": "execute_result",
     "data": {
      "text/plain": "30-element Vector{String}:\n \"setosa\"\n \"setosa\"\n \"setosa\"\n \"setosa\"\n \"setosa\"\n \"setosa\"\n \"setosa\"\n \"setosa\"\n \"setosa\"\n \"setosa\"\n ⋮\n \"virginica\"\n \"virginica\"\n \"virginica\"\n \"virginica\"\n \"virginica\"\n \"virginica\"\n \"virginica\"\n \"virginica\"\n \"virginica\""
     },
     "metadata": {},
     "execution_count": 8
    }
   ],
   "cell_type": "code",
   "source": [
    "ntrain = 120\n",
    "s = sample(1:n, ntrain; replace = false)\n",
    "Xtrain = X[s, :]\n",
    "ytrain = y[s]\n",
    "Xtest = rmrow(X, s)\n",
    "ytest = rmrow(y, s)"
   ],
   "metadata": {},
   "execution_count": 8
  },
  {
   "outputs": [
    {
     "output_type": "execute_result",
     "data": {
      "text/plain": "OrderedCollections.OrderedDict{String, Int64} with 3 entries:\n  \"setosa\"     => 40\n  \"versicolor\" => 40\n  \"virginica\"  => 40"
     },
     "metadata": {},
     "execution_count": 9
    }
   ],
   "cell_type": "code",
   "source": [
    "tab(ytrain)"
   ],
   "metadata": {},
   "execution_count": 9
  },
  {
   "outputs": [
    {
     "output_type": "execute_result",
     "data": {
      "text/plain": "OrderedCollections.OrderedDict{String, Int64} with 3 entries:\n  \"setosa\"     => 10\n  \"versicolor\" => 10\n  \"virginica\"  => 10"
     },
     "metadata": {},
     "execution_count": 10
    }
   ],
   "cell_type": "code",
   "source": [
    "tab(ytest)"
   ],
   "metadata": {},
   "execution_count": 10
  },
  {
   "outputs": [
    {
     "output_type": "execute_result",
     "data": {
      "text/plain": "(:T, :P, :Tcenters, :eig, :sstot, :W, :xmeans, :xscales, :lev, :ni)"
     },
     "metadata": {},
     "execution_count": 11
    }
   ],
   "cell_type": "code",
   "source": [
    "fm = fda(Xtrain, ytrain; nlv = 2) ;\n",
    "#fm = fdasvd(Xtrain, ytrain; nlv = 2) ;\n",
    "pnames(fm)"
   ],
   "metadata": {},
   "execution_count": 11
  },
  {
   "outputs": [
    {
     "output_type": "execute_result",
     "data": {
      "text/plain": "3-element Vector{String}:\n \"setosa\"\n \"versicolor\"\n \"virginica\""
     },
     "metadata": {},
     "execution_count": 12
    }
   ],
   "cell_type": "code",
   "source": [
    "lev = fm.lev"
   ],
   "metadata": {},
   "execution_count": 12
  },
  {
   "outputs": [
    {
     "output_type": "execute_result",
     "data": {
      "text/plain": "3"
     },
     "metadata": {},
     "execution_count": 13
    }
   ],
   "cell_type": "code",
   "source": [
    "nlev = length(lev)"
   ],
   "metadata": {},
   "execution_count": 13
  },
  {
   "outputs": [
    {
     "output_type": "execute_result",
     "data": {
      "text/plain": "120×2 Matrix{Float64}:\n  7.27106   0.441305\n -5.42148   0.417766\n -1.57203  -0.165102\n  7.56594   0.780102\n -2.61124   0.814685\n -2.77304   0.470452\n  8.14682  -1.54122\n -1.47812   0.443179\n -6.97837  -1.72885\n -2.49833   0.778477\n  ⋮        \n -7.85492  -0.0417687\n -4.79209   0.464886\n  9.65846  -2.81385\n -5.37351  -1.81784\n  8.0453   -1.23454\n -2.55051  -0.918972\n  8.13271   0.0931604\n -4.25895  -0.179424\n  7.72519   0.217594"
     },
     "metadata": {},
     "execution_count": 14
    }
   ],
   "cell_type": "code",
   "source": [
    "fm.T"
   ],
   "metadata": {},
   "execution_count": 14
  },
  {
   "outputs": [
    {
     "output_type": "execute_result",
     "data": {
      "text/plain": "3×2 Matrix{Float64}:\n  7.9212   -0.194871\n -2.01232   0.691656\n -5.90889  -0.496785"
     },
     "metadata": {},
     "execution_count": 15
    }
   ],
   "cell_type": "code",
   "source": [
    "# Class centers projected on the score space\n",
    "ct = fm.Tcenters"
   ],
   "metadata": {},
   "execution_count": 15
  },
  {
   "outputs": [
    {
     "output_type": "execute_result",
     "data": {
      "text/plain": "Figure()",
      "image/png": "[encoded data removed]"
     },
     "metadata": {},
     "execution_count": 16
    }
   ],
   "cell_type": "code",
   "source": [
    "f, ax = plotxy(fm.T[:, 1:2], ytrain;\n",
    "    ellipse = true, title = \"FDA\", zeros = true)\n",
    "scatter!(ax, ct[:, 1], ct[:, 2],\n",
    "    markersize = 10, color = :red)\n",
    "f"
   ],
   "metadata": {},
   "execution_count": 16
  },
  {
   "outputs": [
    {
     "output_type": "execute_result",
     "data": {
      "text/plain": "30×2 Matrix{Float64}:\n  8.6202   -0.600204\n  7.79079   0.856019\n  8.24398  -0.601551\n  9.22572  -0.898486\n  8.3856   -0.288089\n  7.79565  -0.521904\n  9.99158  -1.95482\n  9.08476  -0.405112\n  8.83393  -0.367736\n  8.56315  -0.91973\n  ⋮        \n -6.63671  -0.550915\n -6.19017   0.140333\n -6.06873  -1.94479\n -9.70362   0.615798\n -7.20836  -0.853864\n -4.09251  -0.654514\n -5.72355  -0.00844747\n -7.17705  -2.36184\n -5.92523  -1.53142"
     },
     "metadata": {},
     "execution_count": 17
    }
   ],
   "cell_type": "code",
   "source": [
    "# Projection of Xtest to the score space\n",
    "Ttest = Jchemo.transform(fm, Xtest)"
   ],
   "metadata": {},
   "execution_count": 17
  },
  {
   "outputs": [
    {
     "output_type": "execute_result",
     "data": {
      "text/plain": "4×2 Matrix{Float64}:\n  0.7928    0.0642351\n  1.62496  -2.31122\n -2.30659   0.68147\n -2.93007  -2.38892"
     },
     "metadata": {},
     "execution_count": 18
    }
   ],
   "cell_type": "code",
   "source": [
    "# X-loadings matrix\n",
    "# Columns of P = coefficients of the linear discriminant function\n",
    "# = \"LD\" of function lda of package MASS\n",
    "fm.P"
   ],
   "metadata": {},
   "execution_count": 18
  },
  {
   "outputs": [
    {
     "output_type": "execute_result",
     "data": {
      "text/plain": "2×2 Matrix{Float64}:\n 17.1747    1.72312\n  1.72312  11.5172"
     },
     "metadata": {},
     "execution_count": 19
    }
   ],
   "cell_type": "code",
   "source": [
    "fm.P' * fm.P    # not orthogonal"
   ],
   "metadata": {},
   "execution_count": 19
  },
  {
   "outputs": [
    {
     "output_type": "execute_result",
     "data": {
      "text/plain": "4-element Vector{Float64}:\n 33.90327775437844\n  0.2543862150638546\n -1.9872517357900566e-15\n -1.9872517357900566e-15"
     },
     "metadata": {},
     "execution_count": 20
    }
   ],
   "cell_type": "code",
   "source": [
    "fm.eig"
   ],
   "metadata": {},
   "execution_count": 20
  },
  {
   "outputs": [
    {
     "output_type": "execute_result",
     "data": {
      "text/plain": "34.1576639694423"
     },
     "metadata": {},
     "execution_count": 21
    }
   ],
   "cell_type": "code",
   "source": [
    "fm.sstot"
   ],
   "metadata": {},
   "execution_count": 21
  },
  {
   "outputs": [
    {
     "output_type": "execute_result",
     "data": {
      "text/plain": "(explvarx = \u001b[1m2×4 DataFrame\u001b[0m\n\u001b[1m Row \u001b[0m│\u001b[1m lv    \u001b[0m\u001b[1m var       \u001b[0m\u001b[1m pvar       \u001b[0m\u001b[1m cumpvar  \u001b[0m\n     │\u001b[90m Int64 \u001b[0m\u001b[90m Float64   \u001b[0m\u001b[90m Float64    \u001b[0m\u001b[90m Float64  \u001b[0m\n─────┼────────────────────────────────────────\n   1 │     1  33.9033    0.992553    0.992553\n   2 │     2   0.254386  0.00744741  1.0,)"
     },
     "metadata": {},
     "execution_count": 22
    }
   ],
   "cell_type": "code",
   "source": [
    "# Explained variance by PCA of the class centers\n",
    "# in transformed scale\n",
    "summary(fm)"
   ],
   "metadata": {},
   "execution_count": 22
  },
  {
   "cell_type": "markdown",
   "source": [
    "---\n",
    "\n",
    "*This notebook was generated using [Literate.jl](https://github.com/fredrikekre/Literate.jl).*"
   ],
   "metadata": {}
  }
 ],
 "nbformat_minor": 3,
 "metadata": {
  "language_info": {
   "file_extension": ".jl",
   "mimetype": "application/julia",
   "name": "julia",
   "version": "1.9.3"
  },
  "kernelspec": {
   "name": "julia-1.9",
   "display_name": "Julia 1.9.3",
   "language": "julia"
  }
 },
 "nbformat": 4
}
